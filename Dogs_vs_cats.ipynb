{
  "nbformat": 4,
  "nbformat_minor": 0,
  "metadata": {
    "colab": {
      "name": "Untitled0.ipynb",
      "provenance": [],
      "authorship_tag": "ABX9TyOw/7rkZii+1v70BsoB1nMY",
      "include_colab_link": true
    },
    "kernelspec": {
      "name": "python3",
      "display_name": "Python 3"
    },
    "accelerator": "GPU"
  },
  "cells": [
    {
      "cell_type": "markdown",
      "metadata": {
        "id": "view-in-github",
        "colab_type": "text"
      },
      "source": [
        "<a href=\"https://colab.research.google.com/github/navinkumar357/Deep-learning-with-TensorFlow-Keras/blob/master/Dogs_vs_cats.ipynb\" target=\"_parent\"><img src=\"https://colab.research.google.com/assets/colab-badge.svg\" alt=\"Open In Colab\"/></a>"
      ]
    },
    {
      "cell_type": "code",
      "metadata": {
        "id": "_x9aN9ulgU_P",
        "colab_type": "code",
        "colab": {
          "base_uri": "https://localhost:8080/",
          "height": 121
        },
        "outputId": "05f72b64-08f9-420f-ac91-e7cb168a26a5"
      },
      "source": [
        "from google.colab import drive\n",
        "drive.mount('/content/drive')"
      ],
      "execution_count": 1,
      "outputs": [
        {
          "output_type": "stream",
          "text": [
            "Go to this URL in a browser: https://accounts.google.com/o/oauth2/auth?client_id=947318989803-6bn6qk8qdgf4n4g3pfee6491hc0brc4i.apps.googleusercontent.com&redirect_uri=urn%3aietf%3awg%3aoauth%3a2.0%3aoob&response_type=code&scope=email%20https%3a%2f%2fwww.googleapis.com%2fauth%2fdocs.test%20https%3a%2f%2fwww.googleapis.com%2fauth%2fdrive%20https%3a%2f%2fwww.googleapis.com%2fauth%2fdrive.photos.readonly%20https%3a%2f%2fwww.googleapis.com%2fauth%2fpeopleapi.readonly\n",
            "\n",
            "Enter your authorization code:\n",
            "··········\n",
            "Mounted at /content/drive\n"
          ],
          "name": "stdout"
        }
      ]
    },
    {
      "cell_type": "code",
      "metadata": {
        "id": "u-EcBWtrgiSt",
        "colab_type": "code",
        "colab": {
          "base_uri": "https://localhost:8080/",
          "height": 34
        },
        "outputId": "fced7b71-aa3b-4a66-cb59-dd439dfb84de"
      },
      "source": [
        "from zipfile import ZipFile\n",
        "file_name = \"/content/drive/My Drive/Colab Notebooks/kagglecatsanddogs_3367a.zip\"\n",
        "\n",
        "with ZipFile(file_name, 'r') as zip:\n",
        "  zip.extractall()\n",
        "  print(\"done\")"
      ],
      "execution_count": 2,
      "outputs": [
        {
          "output_type": "stream",
          "text": [
            "done\n"
          ],
          "name": "stdout"
        }
      ]
    },
    {
      "cell_type": "code",
      "metadata": {
        "id": "PqKr5ZaYBGoU",
        "colab_type": "code",
        "colab": {
          "base_uri": "https://localhost:8080/",
          "height": 34
        },
        "outputId": "4ea5682b-bba3-4854-ce81-5d0883d034bc"
      },
      "source": [
        "from zipfile import ZipFile\n",
        "file_name = \"/content/drive/My Drive/Colab Notebooks/Test.zip\"\n",
        "\n",
        "with ZipFile(file_name, 'r') as zip:\n",
        "  zip.extractall()\n",
        "  print(\"done\")"
      ],
      "execution_count": 16,
      "outputs": [
        {
          "output_type": "stream",
          "text": [
            "done\n"
          ],
          "name": "stdout"
        }
      ]
    },
    {
      "cell_type": "code",
      "metadata": {
        "id": "tb0TV17fgoze",
        "colab_type": "code",
        "colab": {
          "base_uri": "https://localhost:8080/",
          "height": 35
        },
        "outputId": "53deba85-de18-496e-fdf0-3b12fd94e5e5"
      },
      "source": [
        "import tensorflow as tf\n",
        "tf.__version__"
      ],
      "execution_count": 3,
      "outputs": [
        {
          "output_type": "execute_result",
          "data": {
            "application/vnd.google.colaboratory.intrinsic+json": {
              "type": "string"
            },
            "text/plain": [
              "'2.3.0'"
            ]
          },
          "metadata": {
            "tags": []
          },
          "execution_count": 3
        }
      ]
    },
    {
      "cell_type": "code",
      "metadata": {
        "id": "qBk9u2wcgo2y",
        "colab_type": "code",
        "colab": {
          "base_uri": "https://localhost:8080/",
          "height": 570
        },
        "outputId": "dbe218d6-f3b4-4c75-faba-8ff209756386"
      },
      "source": [
        "import numpy as np\n",
        "import matplotlib.pyplot as plt\n",
        "import os\n",
        "import cv2\n",
        "import random\n",
        "import pickle\n",
        "from tqdm import tqdm\n",
        "\n",
        "DATADIR = '/content/PetImages'\n",
        "CATEGORIES = ['Dog', 'Cat']\n",
        "\n",
        "for category in CATEGORIES:                 # create path to dogs and cats\n",
        "    path = os.path.join(DATADIR, category)\n",
        "    for img in os.listdir(path):\n",
        "        img_array = cv2.imread(os.path.join(path, img), cv2.IMREAD_GRAYSCALE)\n",
        "        plt.imshow(img_array, cmap='gray')\n",
        "        plt.show()\n",
        "        break\n",
        "    break\n",
        "print(img_array.shape)\n",
        "\n",
        "IMG_SIZE = 60\n",
        "new_array = cv2.resize(img_array, (IMG_SIZE, IMG_SIZE))\n",
        "plt.imshow(new_array, cmap='gray')\n",
        "plt.show()\n",
        "\n",
        "training_data = []\n",
        "\n",
        "def create_training_data():\n",
        "    for category in CATEGORIES:\n",
        "\n",
        "        path = os.path.join(DATADIR, category)  # create path to dogs and cats\n",
        "        class_num = CATEGORIES.index(category)  # get the classification  (0 or a 1). 0=dog 1=cat\n",
        "\n",
        "        for img in tqdm(os.listdir(path)):      # iterate over each image per dogs and cats and tqdm gives a progress bar\n",
        "            try:\n",
        "                img_array = cv2.imread(os.path.join(path, img), cv2.IMREAD_GRAYSCALE)\n",
        "                new_array = cv2.resize(img_array, (IMG_SIZE, IMG_SIZE))\n",
        "                training_data.append([new_array, class_num])\n",
        "            except Exception as e:\n",
        "                pass\n",
        "create_training_data()\n",
        "\n",
        "random.shuffle(training_data)\n",
        "\n"
      ],
      "execution_count": 4,
      "outputs": [
        {
          "output_type": "display_data",
          "data": {
            "image/png": "[encoded data removed]",
            "text/plain": [
              "<Figure size 432x288 with 1 Axes>"
            ]
          },
          "metadata": {
            "tags": [],
            "needs_background": "light"
          }
        },
        {
          "output_type": "stream",
          "text": [
            "(475, 500)\n"
          ],
          "name": "stdout"
        },
        {
          "output_type": "display_data",
          "data": {
            "image/png": "[encoded data removed]",
            "text/plain": [
              "<Figure size 432x288 with 1 Axes>"
            ]
          },
          "metadata": {
            "tags": [],
            "needs_background": "light"
          }
        },
        {
          "output_type": "stream",
          "text": [
            "100%|██████████| 12501/12501 [00:15<00:00, 792.44it/s]\n",
            "100%|██████████| 12501/12501 [00:14<00:00, 857.99it/s]\n"
          ],
          "name": "stderr"
        }
      ]
    },
    {
      "cell_type": "code",
      "metadata": {
        "id": "HCZkMEV-hLW9",
        "colab_type": "code",
        "colab": {
          "base_uri": "https://localhost:8080/",
          "height": 185
        },
        "outputId": "b97e37d0-f962-4c9b-eb24-990b2ea238d6"
      },
      "source": [
        "random.shuffle(training_data)\n",
        "for sample in training_data [:10]:\n",
        "    print(sample[1])\n"
      ],
      "execution_count": 5,
      "outputs": [
        {
          "output_type": "stream",
          "text": [
            "1\n",
            "0\n",
            "1\n",
            "1\n",
            "1\n",
            "0\n",
            "0\n",
            "1\n",
            "0\n",
            "1\n"
          ],
          "name": "stdout"
        }
      ]
    },
    {
      "cell_type": "code",
      "metadata": {
        "id": "Ilf-bIfMij79",
        "colab_type": "code",
        "colab": {}
      },
      "source": [
        "X = []\n",
        "y = []\n",
        "\n",
        "for features, label in training_data:\n",
        "    X.append(features)\n",
        "    y.append(label)\n",
        "\n",
        "X = np.array(X).reshape(-1, IMG_SIZE, IMG_SIZE, 1)\n",
        "y = np.array(y)"
      ],
      "execution_count": 7,
      "outputs": []
    },
    {
      "cell_type": "markdown",
      "metadata": {
        "id": "dcpVFHLAiwSl",
        "colab_type": "text"
      },
      "source": [
        "Pickle is used to temporarily store the numpy arrays of X and y.\n",
        "\n",
        "*   It is dumped when writing and loaded when reading back.\n",
        "\n",
        "\n"
      ]
    },
    {
      "cell_type": "code",
      "metadata": {
        "id": "Mg7SzFNEikN7",
        "colab_type": "code",
        "colab": {}
      },
      "source": [
        "pickle_out = open('X.pickle', 'wb')\n",
        "pickle.dump(X, pickle_out)\n",
        "pickle_out.close()\n",
        "\n",
        "pickle_out = open('y.pickle', 'wb')\n",
        "pickle.dump(y, pickle_out)\n",
        "pickle_out.close()"
      ],
      "execution_count": 8,
      "outputs": []
    },
    {
      "cell_type": "code",
      "metadata": {
        "id": "uhBG8BDvgo52",
        "colab_type": "code",
        "colab": {
          "base_uri": "https://localhost:8080/",
          "height": 403
        },
        "outputId": "359c8a7b-14d0-444b-8195-b7d973dadcd9"
      },
      "source": [
        "from tensorflow.keras.models import Sequential\n",
        "from tensorflow.keras.layers import Dense, Dropout, Activation, Flatten, Conv2D, MaxPooling2D\n",
        "import pickle\n",
        "\n",
        "pickle_in = open('X.pickle', 'rb')\n",
        "X = pickle.load(pickle_in)\n",
        "pickle_in = open('y.pickle', 'rb')\n",
        "y = pickle.load(pickle_in)\n",
        "X = X/255.0\n",
        "\n",
        "model = Sequential()\n",
        "model.add(Conv2D(256, (3, 3), input_shape=X.shape[1:]))\n",
        "model.add(Activation('relu'))\n",
        "model.add(MaxPooling2D(pool_size=(2, 2)))\n",
        "\n",
        "model.add(Conv2D(128, (3, 3)))\n",
        "model.add(Activation('relu'))\n",
        "model.add(MaxPooling2D(pool_size=(2, 2)))\n",
        "\n",
        "model.add(Conv2D(64, (3, 3), input_shape=X.shape[1:]))\n",
        "model.add(Activation('relu'))\n",
        "model.add(MaxPooling2D(pool_size=(2, 2)))\n",
        "\n",
        "model.add(Flatten())\n",
        "model.add(Dense(128))\n",
        "model.add(Dense(1))\n",
        "model.add(Activation('sigmoid'))\n",
        "model.compile(loss='binary_crossentropy',\n",
        "              optimizer='adam',\n",
        "              metrics=['accuracy'])\n",
        "model.fit(X, y, batch_size=32, epochs=11, validation_split=0.2)"
      ],
      "execution_count": 11,
      "outputs": [
        {
          "output_type": "stream",
          "text": [
            "Epoch 1/11\n",
            "624/624 [==============================] - 23s 37ms/step - loss: 0.6603 - accuracy: 0.5994 - val_loss: 0.6105 - val_accuracy: 0.6679\n",
            "Epoch 2/11\n",
            "624/624 [==============================] - 23s 36ms/step - loss: 0.5564 - accuracy: 0.7150 - val_loss: 0.5153 - val_accuracy: 0.7467\n",
            "Epoch 3/11\n",
            "624/624 [==============================] - 23s 36ms/step - loss: 0.4839 - accuracy: 0.7656 - val_loss: 0.4533 - val_accuracy: 0.7808\n",
            "Epoch 4/11\n",
            "624/624 [==============================] - 23s 37ms/step - loss: 0.4377 - accuracy: 0.7965 - val_loss: 0.4508 - val_accuracy: 0.7870\n",
            "Epoch 5/11\n",
            "624/624 [==============================] - 23s 37ms/step - loss: 0.4027 - accuracy: 0.8159 - val_loss: 0.4235 - val_accuracy: 0.8016\n",
            "Epoch 6/11\n",
            "624/624 [==============================] - 23s 37ms/step - loss: 0.3723 - accuracy: 0.8345 - val_loss: 0.4101 - val_accuracy: 0.8126\n",
            "Epoch 7/11\n",
            "624/624 [==============================] - 23s 36ms/step - loss: 0.3532 - accuracy: 0.8417 - val_loss: 0.3966 - val_accuracy: 0.8206\n",
            "Epoch 8/11\n",
            "624/624 [==============================] - 23s 37ms/step - loss: 0.3287 - accuracy: 0.8535 - val_loss: 0.4211 - val_accuracy: 0.8118\n",
            "Epoch 9/11\n",
            "624/624 [==============================] - 23s 37ms/step - loss: 0.3027 - accuracy: 0.8687 - val_loss: 0.4078 - val_accuracy: 0.8283\n",
            "Epoch 10/11\n",
            "624/624 [==============================] - 23s 37ms/step - loss: 0.2844 - accuracy: 0.8771 - val_loss: 0.4144 - val_accuracy: 0.8230\n",
            "Epoch 11/11\n",
            "624/624 [==============================] - 23s 37ms/step - loss: 0.2663 - accuracy: 0.8863 - val_loss: 0.4329 - val_accuracy: 0.8194\n"
          ],
          "name": "stdout"
        },
        {
          "output_type": "execute_result",
          "data": {
            "text/plain": [
              "<tensorflow.python.keras.callbacks.History at 0x7f62202a2f28>"
            ]
          },
          "metadata": {
            "tags": []
          },
          "execution_count": 11
        }
      ]
    },
    {
      "cell_type": "code",
      "metadata": {
        "id": "Ivz-tUz0iUzq",
        "colab_type": "code",
        "colab": {
          "base_uri": "https://localhost:8080/",
          "height": 154
        },
        "outputId": "ece92a7c-1e2d-49c8-943f-cd1420c93429"
      },
      "source": [
        "model.save('cats_vs_dogs.model')"
      ],
      "execution_count": 20,
      "outputs": [
        {
          "output_type": "stream",
          "text": [
            "WARNING:tensorflow:From /usr/local/lib/python3.6/dist-packages/tensorflow/python/training/tracking/tracking.py:111: Model.state_updates (from tensorflow.python.keras.engine.training) is deprecated and will be removed in a future version.\n",
            "Instructions for updating:\n",
            "This property should not be used in TensorFlow 2.0, as updates are applied automatically.\n",
            "WARNING:tensorflow:From /usr/local/lib/python3.6/dist-packages/tensorflow/python/training/tracking/tracking.py:111: Layer.updates (from tensorflow.python.keras.engine.base_layer) is deprecated and will be removed in a future version.\n",
            "Instructions for updating:\n",
            "This property should not be used in TensorFlow 2.0, as updates are applied automatically.\n",
            "INFO:tensorflow:Assets written to: cats_vs_dogs.model/assets\n"
          ],
          "name": "stdout"
        }
      ]
    },
    {
      "cell_type": "code",
      "metadata": {
        "id": "LIFmzX8SCILB",
        "colab_type": "code",
        "colab": {
          "base_uri": "https://localhost:8080/",
          "height": 101
        },
        "outputId": "c2fa0729-3bad-4715-da82-bc7566d8bd67"
      },
      "source": [
        "! ls \"/content/drive/My Drive/\""
      ],
      "execution_count": 22,
      "outputs": [
        {
          "output_type": "stream",
          "text": [
            "'Cir backup material'\t        final.py\t     'micro proj files'\n",
            " cnnCat2.h5\t\t       'Final year project'  'PLC - project'\n",
            "'Colab Notebooks'\t       'Imp scanned docs'    'Project points.gdoc'\n",
            "'Driver drowsiness detection'  'Internship docs'      Report.gdoc\n",
            "'embedded study files '         micro-proj\t     'Uppsala entry docs'\n"
          ],
          "name": "stdout"
        }
      ]
    },
    {
      "cell_type": "code",
      "metadata": {
        "id": "F0sWvJjcFHlr",
        "colab_type": "code",
        "colab": {
          "base_uri": "https://localhost:8080/",
          "height": 34
        },
        "outputId": "239e605c-2b09-43b8-dd14-98d2777496bc"
      },
      "source": [
        "! cp cats_vs_dogs.model \"/content/drive/My Drive/\""
      ],
      "execution_count": 23,
      "outputs": [
        {
          "output_type": "stream",
          "text": [
            "cp: -r not specified; omitting directory 'cats_vs_dogs.model'\n"
          ],
          "name": "stdout"
        }
      ]
    },
    {
      "cell_type": "code",
      "metadata": {
        "id": "P5u438JCFUWx",
        "colab_type": "code",
        "colab": {}
      },
      "source": [
        ""
      ],
      "execution_count": null,
      "outputs": []
    }
  ]
}