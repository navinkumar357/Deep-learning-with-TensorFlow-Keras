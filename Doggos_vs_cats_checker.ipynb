{
  "nbformat": 4,
  "nbformat_minor": 0,
  "metadata": {
    "colab": {
      "name": "Doggos_vs_cats_checker.ipynb",
      "provenance": [],
      "authorship_tag": "ABX9TyPQjGJ+/B6aX7GnNygmRMys",
      "include_colab_link": true
    },
    "kernelspec": {
      "name": "python3",
      "display_name": "Python 3"
    }
  },
  "cells": [
    {
      "cell_type": "markdown",
      "metadata": {
        "id": "view-in-github",
        "colab_type": "text"
      },
      "source": [
        "<a href=\"https://colab.research.google.com/github/navinkumar357/Deep-learning-with-TensorFlow-Keras/blob/master/Doggos_vs_cats_checker.ipynb\" target=\"_parent\"><img src=\"https://colab.research.google.com/assets/colab-badge.svg\" alt=\"Open In Colab\"/></a>"
      ]
    },
    {
      "cell_type": "code",
      "metadata": {
        "id": "pvdrBbOz-dpK",
        "colab_type": "code",
        "colab": {
          "base_uri": "https://localhost:8080/",
          "height": 121
        },
        "outputId": "cf415e1c-c4c2-4a3b-b132-06bdc6a4eb26"
      },
      "source": [
        "from google.colab import drive\n",
        "drive.mount('/content/drive')"
      ],
      "execution_count": 1,
      "outputs": [
        {
          "output_type": "stream",
          "text": [
            "Go to this URL in a browser: https://accounts.google.com/o/oauth2/auth?client_id=947318989803-6bn6qk8qdgf4n4g3pfee6491hc0brc4i.apps.googleusercontent.com&redirect_uri=urn%3aietf%3awg%3aoauth%3a2.0%3aoob&scope=email%20https%3a%2f%2fwww.googleapis.com%2fauth%2fdocs.test%20https%3a%2f%2fwww.googleapis.com%2fauth%2fdrive%20https%3a%2f%2fwww.googleapis.com%2fauth%2fdrive.photos.readonly%20https%3a%2f%2fwww.googleapis.com%2fauth%2fpeopleapi.readonly&response_type=code\n",
            "\n",
            "Enter your authorization code:\n",
            "··········\n",
            "Mounted at /content/drive\n"
          ],
          "name": "stdout"
        }
      ]
    },
    {
      "cell_type": "code",
      "metadata": {
        "id": "TkE8K8_e-jMH",
        "colab_type": "code",
        "colab": {}
      },
      "source": [
        "import cv2\n",
        "import tensorflow as tf"
      ],
      "execution_count": 2,
      "outputs": []
    },
    {
      "cell_type": "code",
      "metadata": {
        "id": "eBXLrbwO-o4F",
        "colab_type": "code",
        "colab": {}
      },
      "source": [
        "CATEGORIES = [\"DOG\", \"CAT\"]"
      ],
      "execution_count": 3,
      "outputs": []
    },
    {
      "cell_type": "code",
      "metadata": {
        "id": "ZPbJFoqt-q5k",
        "colab_type": "code",
        "colab": {}
      },
      "source": [
        "model = tf.keras.models.load_model('/content/drive/My Drive/Colab Notebooks/Cats_vs_Dogs/model.h5')"
      ],
      "execution_count": 4,
      "outputs": []
    },
    {
      "cell_type": "code",
      "metadata": {
        "id": "rBfVKd8V-sD8",
        "colab_type": "code",
        "colab": {}
      },
      "source": [
        "def prepare(filepath):\n",
        "  IMG_SIZE = 60\n",
        "  img_array = cv2.imread(filepath, cv2.IMREAD_GRAYSCALE)\n",
        "  new_array = cv2.resize(img_array, (IMG_SIZE, IMG_SIZE))\n",
        "  return new_array.reshape(-1, IMG_SIZE, IMG_SIZE, 1)\n",
        "\n",
        "model = tf.keras.models.load_model(\"/content/drive/My Drive/Colab Notebooks/Cats_vs_Dogs/model.h5\")\n",
        "\n",
        "prediction = model.predict([prepare(\"/content/drive/My Drive/test1.jpg\")])"
      ],
      "execution_count": 5,
      "outputs": []
    },
    {
      "cell_type": "code",
      "metadata": {
        "id": "44YlPMly-tnz",
        "colab_type": "code",
        "colab": {
          "base_uri": "https://localhost:8080/",
          "height": 34
        },
        "outputId": "db694437-8ac1-4fca-9032-de3a42b5956e"
      },
      "source": [
        "print(CATEGORIES[int(prediction[0][0])])"
      ],
      "execution_count": 6,
      "outputs": [
        {
          "output_type": "stream",
          "text": [
            "DOG\n"
          ],
          "name": "stdout"
        }
      ]
    }
  ]
}