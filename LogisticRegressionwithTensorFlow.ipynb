{
  "nbformat": 4,
  "nbformat_minor": 0,
  "metadata": {
    "kernelspec": {
      "display_name": "Python 3",
      "language": "python",
      "name": "python3"
    },
    "language_info": {
      "codemirror_mode": {
        "name": "ipython",
        "version": 3
      },
      "file_extension": ".py",
      "mimetype": "text/x-python",
      "name": "python",
      "nbconvert_exporter": "python",
      "pygments_lexer": "ipython3",
      "version": "3.6.5"
    },
    "colab": {
      "name": "ML0120EN-1.4-Review-LogisticRegressionwithTensorFlow.ipynb",
      "provenance": [],
      "include_colab_link": true
    }
  },
  "cells": [
    {
      "cell_type": "markdown",
      "metadata": {
        "id": "view-in-github",
        "colab_type": "text"
      },
      "source": [
        "<a href=\"https://colab.research.google.com/github/navinkumar357/Deep-learning-with-TensorFlow-Keras/blob/master/LogisticRegressionwithTensorFlow.ipynb\" target=\"_parent\"><img src=\"https://colab.research.google.com/assets/colab-badge.svg\" alt=\"Open In Colab\"/></a>"
      ]
    },
    {
      "cell_type": "markdown",
      "metadata": {
        "id": "Bd8SN8Voxz1u",
        "colab_type": "text"
      },
      "source": [
        "<a id=\"ref1\"></a>\n",
        "<h2>What is different between Linear and Logistic Regression?</h2>\n",
        "\n",
        "While Linear Regression is suited for estimating continuous values (e.g. estimating house price), it is n0t the best tool for predicting the class in which an observed data point belongs. In order to provide estimate for classification, we need some sort of guidance on what would be the <b>most probable class</b> for that data point. For this, we use <b>Logistic Regression</b>.\n",
        "\n",
        "<div class=\"alert alert-success alertsuccess\" style=\"margin-top: 20px\">\n",
        "<font size=\"3\"><strong>Recall linear regression:</strong></font>\n",
        "<br>\n",
        "<br>\n",
        "Linear regression finds a function that relates a continuous dependent variable, <i>y</i>, to some predictors (independent variables <i>x1</i>, <i>x2</i>, etc.). Simple linear regression assumes a function of the form:\n",
        "<br><br>\n",
        "$$\n",
        "y = w0 + w1 \\times x1 + w2 \\times x2 + \\cdots\n",
        "$$\n",
        "<br>\n",
        "and finds the values of <i>w0</i>, <i>w1</i>, <i>w2</i>, etc. The term <i>w0</i> is the \"intercept\" or \"constant term\" (it's shown as <i>b</i> in the formula below):\n",
        "<br><br>\n",
        "$$\n",
        "Y = W X + b\n",
        "$$\n",
        "<p></p>\n",
        "\n",
        "</div>\n",
        "\n",
        "Logistic Regression is a variation of Linear Regression, useful when the observed dependent variable, <i>y</i>, is categorical. It produces a formula that predicts the probability of the class label as a function of the independent variables.\n",
        "\n",
        "Despite the name logistic <i>regression</i>, it is actually a <b>probabilistic classification</b> model. Logistic regression fits a special s-shaped curve by taking the linear regression and transforming the numeric estimate into a probability with the following function:\n",
        "\n",
        "$$\n",
        "ProbabilityOfaClass = \\theta(y) = \\frac{e^y}{1 + e^y} = exp(y) / (1 + exp(y)) = p \n",
        "$$\n",
        "\n",
        "which produces p-values between 0 (as y approaches minus infinity $-\\infty$) and 1 (as y approaches plus infinity $+\\infty$). This now becomes a special kind of non-linear regression.\n",
        "\n",
        "In this equation, <i>y</i> is the regression result (the sum of the variables weighted by the coefficients), <code>exp</code> is the exponential function and $\\theta(y)$ is the <a href=\"http://en.wikipedia.org/wiki/Logistic_function\">logistic function</a>, also called logistic curve. It is a common \"S\" shape (sigmoid curve), and was first developed for modeling population growth.\n",
        "\n",
        "You might also have seen this function before, in another configuration:\n",
        "\n",
        "$$\n",
        "ProbabilityOfaClass = \\theta(y) = \\frac{1}{1+e^{-y}}\n",
        "$$\n",
        "\n",
        "So, briefly, Logistic Regression passes the input through the logistic/sigmoid function but then treats the result as a probability:\n",
        "\n",
        "<img src=\"https://ibm.box.com/shared/static/kgv9alcghmjcv97op4d6onkyxevk23b1.png\" width=\"400\" align=\"center\">\n"
      ]
    },
    {
      "cell_type": "markdown",
      "metadata": {
        "id": "FPXhNrtexz1u",
        "colab_type": "text"
      },
      "source": [
        "-------------------------------"
      ]
    },
    {
      "cell_type": "markdown",
      "metadata": {
        "id": "p4zGURRxxz1v",
        "colab_type": "text"
      },
      "source": [
        "<a id=\"ref2\"></a>\n",
        "<h2>Utilizing Logistic Regression in TensorFlow</h2>\n",
        "\n",
        "For us to utilize Logistic Regression in TensorFlow, we first need to import the required libraries. To do so, you can run the code cell below."
      ]
    },
    {
      "cell_type": "code",
      "metadata": {
        "id": "fXtcyiUoxz1w",
        "colab_type": "code",
        "colab": {}
      },
      "source": [
        "\n",
        "import pandas as pd\n",
        "import numpy as np\n",
        "import time\n",
        "from sklearn.datasets import load_iris\n",
        "from sklearn.model_selection import train_test_split\n",
        "import matplotlib.pyplot as plt\n",
        "import tensorflow.compat.v1 as tf\n"
      ],
      "execution_count": null,
      "outputs": []
    },
    {
      "cell_type": "code",
      "metadata": {
        "id": "sklhmXhn2zmL",
        "colab_type": "code",
        "colab": {
          "base_uri": "https://localhost:8080/",
          "height": 35
        },
        "outputId": "57816cdc-42cb-410c-d995-6f67fd5e7ee7"
      },
      "source": [
        "tf.__version__"
      ],
      "execution_count": null,
      "outputs": [
        {
          "output_type": "execute_result",
          "data": {
            "application/vnd.google.colaboratory.intrinsic+json": {
              "type": "string"
            },
            "text/plain": [
              "'2.3.0'"
            ]
          },
          "metadata": {
            "tags": []
          },
          "execution_count": 8
        }
      ]
    },
    {
      "cell_type": "markdown",
      "metadata": {
        "id": "qLs5MJCtxz14",
        "colab_type": "text"
      },
      "source": [
        "Next, we will load the dataset we are going to use. In this case, we are utilizing the <code>iris</code> dataset, which is inbuilt -- so there's no need to do any preprocessing and we can jump right into manipulating it. We separate the dataset into <i>xs</i> and <i>ys</i>, and then into training <i>xs</i> and <i>ys</i> and testing <i>xs</i> and <i>ys</i>, (pseudo)randomly."
      ]
    },
    {
      "cell_type": "markdown",
      "metadata": {
        "id": "w4QpKjiOxz14",
        "colab_type": "text"
      },
      "source": [
        "<h3>Understanding the Data</h3>\n",
        "\n",
        "<h4><code>Iris Dataset</code>:</h4>\n",
        "This dataset was introduced by British Statistician and Biologist Ronald Fisher, it consists of 50 samples from each of three species of Iris (Iris setosa, Iris virginica and Iris versicolor). In total it has 150 records under five attributes - petal length, petal width, sepal length, sepal width and species. <a href=\"https://archive.ics.uci.edu/ml/datasets/iris\">Dataset source</a>\n",
        "\n",
        "Attributes\n",
        "Independent Variable\n",
        "<ul>\n",
        "    <li>petal length</li>\n",
        "    <li>petal width</li>\n",
        "    <li>sepal length</li>\n",
        "    <li>sepal width</li>\n",
        "</ul>\n",
        "Dependent Variable\n",
        "<ul>    \n",
        "    <li>Species\n",
        "        <ul>\n",
        "            <li>Iris setosa</li>\n",
        "            <li>Iris virginica</li>\n",
        "            <li>Iris versicolor</li>\n",
        "        </ul>\n",
        "    </li>\n",
        "</ul>\n",
        "<br>"
      ]
    },
    {
      "cell_type": "code",
      "metadata": {
        "id": "HSRef3Qrxz15",
        "colab_type": "code",
        "colab": {}
      },
      "source": [
        "iris = load_iris()\n",
        "iris_X, iris_y = iris.data[:-1,:], iris.target[:-1]\n",
        "iris_y= pd.get_dummies(iris_y).values\n",
        "trainX, testX, trainY, testY = train_test_split(iris_X, iris_y, test_size=0.33, random_state=42)"
      ],
      "execution_count": null,
      "outputs": []
    },
    {
      "cell_type": "markdown",
      "metadata": {
        "id": "p9H80hfixz17",
        "colab_type": "text"
      },
      "source": [
        "Now we define x and y. These placeholders will hold our iris data (both the features and label matrices), and help pass them along to different parts of the algorithm. You can consider placeholders as empty shells into which we insert our data. We also need to give them shapes which correspond to the shape of our data. Later, we will insert data into these placeholders by “feeding” the placeholders the data via a “feed_dict” (Feed Dictionary).\n",
        "\n",
        "<h3>Why use Placeholders?</h3>\n",
        "\n",
        "<ol>\n",
        "    <li>This feature of TensorFlow allows us to create an algorithm which accepts data and knows something about the shape of the data without knowing the amount of data going in.</li>\n",
        "    <li>When we insert “batches” of data in training, we can easily adjust how many examples we train on in a single step without changing the entire algorithm.</li>\n",
        "</ol>"
      ]
    },
    {
      "cell_type": "code",
      "metadata": {
        "id": "KSIJyAVBxz18",
        "colab_type": "code",
        "colab": {}
      },
      "source": [
        "# numFeatures is the number of features in our input data.\n",
        "# In the iris dataset, this number is '4'.\n",
        "numFeatures = trainX.shape[1]\n",
        "\n",
        "# numLabels is the number of classes our data points can be in.\n",
        "# In the iris dataset, this number is '3'.\n",
        "numLabels = trainY.shape[1]\n",
        "\n",
        "\n",
        "# Placeholders\n",
        "# 'None' means TensorFlow shouldn't expect a fixed number in that dimension\n",
        "X = tf.placeholder(tf.float32, [None, numFeatures]) # Iris has 4 features, so X is a tensor to hold our data.\n",
        "yGold = tf.placeholder(tf.float32, [None, numLabels]) # This will be our correct answers matrix for 3 classes."
      ],
      "execution_count": null,
      "outputs": []
    },
    {
      "cell_type": "markdown",
      "metadata": {
        "id": "NZu1SGtexz1_",
        "colab_type": "text"
      },
      "source": [
        "<h3>Set model weights and bias</h3>\n",
        "\n",
        "Much like Linear Regression, we need a shared variable weight matrix for Logistic Regression. We initialize both <code>W</code> and <code>b</code> as tensors full of zeros. Since we are going to learn <code>W</code> and <code>b</code>, their initial value does not matter too much. These variables are the objects which define the structure of our regression model, and we can save them after they have been trained so we can reuse them later.\n",
        "\n",
        "We define two TensorFlow variables as our parameters. These variables will hold the weights and biases of our logistic regression and they will be continually updated during training. \n",
        "\n",
        "Notice that <code>W</code> has a shape of [4, 3] because we want to multiply the 4-dimensional input vectors by it to produce 3-dimensional vectors of evidence for the difference classes. <code>b</code> has a shape of [3] so we can add it to the output. Moreover, unlike our placeholders above which are essentially empty shells waiting to be fed data, TensorFlow variables need to be initialized with values, e.g. with zeros."
      ]
    },
    {
      "cell_type": "code",
      "metadata": {
        "id": "0_PnYZN4xz1_",
        "colab_type": "code",
        "colab": {}
      },
      "source": [
        "W = tf.Variable(tf.zeros([4, 3]))  # 4-dimensional input and  3 classes\n",
        "b = tf.Variable(tf.zeros([3])) # 3-dimensional output [0,0,1],[0,1,0],[1,0,0]"
      ],
      "execution_count": null,
      "outputs": []
    },
    {
      "cell_type": "code",
      "metadata": {
        "id": "oYoNIfJLxz2D",
        "colab_type": "code",
        "colab": {}
      },
      "source": [
        "#Randomly sample from a normal distribution with standard deviation .01\n",
        "\n",
        "weights = tf.Variable(tf.random_normal([numFeatures,numLabels],\n",
        "                                       mean=0,\n",
        "                                       stddev=0.01,\n",
        "                                       name=\"weights\"))\n",
        "\n",
        "bias = tf.Variable(tf.random_normal([1,numLabels],\n",
        "                                    mean=0,\n",
        "                                    stddev=0.01,\n",
        "                                    name=\"bias\"))"
      ],
      "execution_count": null,
      "outputs": []
    },
    {
      "cell_type": "markdown",
      "metadata": {
        "id": "0tF92Hynxz2I",
        "colab_type": "text"
      },
      "source": [
        "<h3>Logistic Regression model</h3>\n",
        "\n",
        "We now define our operations in order to properly run the Logistic Regression. Logistic regression is typically thought of as a single equation:\n",
        "\n",
        "$$\n",
        "ŷ =sigmoid(WX+b)\n",
        "$$\n",
        "\n",
        "However, for the sake of clarity, we can have it broken into its three main components: \n",
        "- a weight times features matrix multiplication operation, \n",
        "- a summation of the weighted features and a bias term, \n",
        "- and finally the application of a sigmoid function. \n",
        "\n",
        "As such, you will find these components defined as three separate operations below.\n"
      ]
    },
    {
      "cell_type": "code",
      "metadata": {
        "id": "82692KF1xz2I",
        "colab_type": "code",
        "colab": {}
      },
      "source": [
        "# Three-component breakdown of the Logistic Regression equation.\n",
        "# Note that these feed into each other.\n",
        "apply_weights_OP = tf.matmul(X, weights, name=\"apply_weights\")\n",
        "add_bias_OP = tf.add(apply_weights_OP, bias, name=\"add_bias\") \n",
        "activation_OP = tf.nn.sigmoid(add_bias_OP, name=\"activation\")"
      ],
      "execution_count": null,
      "outputs": []
    },
    {
      "cell_type": "markdown",
      "metadata": {
        "id": "fZRXmKyyxz2L",
        "colab_type": "text"
      },
      "source": [
        "As we have seen before, the function we are going to use is the <i>logistic function</i> $(\\frac{1}{1+e^{-Wx}})$, which is fed the input data after applying weights and bias. In TensorFlow, this function is implemented as the <code>nn.sigmoid</code> function. Effectively, this fits the weighted input with bias into a 0-100 percent curve, which is the probability function we want."
      ]
    },
    {
      "cell_type": "markdown",
      "metadata": {
        "id": "_cBmj12dxz2L",
        "colab_type": "text"
      },
      "source": [
        "<hr>"
      ]
    },
    {
      "cell_type": "markdown",
      "metadata": {
        "id": "_-pLQCbjxz2M",
        "colab_type": "text"
      },
      "source": [
        "<a id=\"ref3\"></a>\n",
        "<h2>Training</h2>\n",
        "\n",
        "The learning algorithm is how we search for the best weight vector (${\\bf w}$). This search is an optimization problem looking for the hypothesis that optimizes an error/cost measure.\n",
        "\n",
        "<b>What tell us our model is bad?</b>  \n",
        "The Cost or Loss of the model, so what we want is to minimize that. \n",
        "\n",
        "<b>What is the cost function in our model?</b>  \n",
        "The cost function we are going to utilize is the Squared Mean Error loss function.\n",
        "\n",
        "<b>How to minimize the cost function?</b>   \n",
        "We can't use <b>least-squares linear regression</b> here, so we will use <a href=\"http://en.wikipedia.org/wiki/Gradient_descent\">gradient descent</a> instead. Specifically, we will use batch gradient descent which calculates the gradient from all data points in the data set.\n",
        "\n",
        "<h3>Cost function</h3>\n",
        "Before defining our cost function, we need to define how long we are going to train and how should we define the learning rate."
      ]
    },
    {
      "cell_type": "code",
      "metadata": {
        "id": "kHgbchEdxz2M",
        "colab_type": "code",
        "colab": {}
      },
      "source": [
        "# Number of Epochs in our training\n",
        "numEpochs = 700\n",
        "\n",
        "# Defining our learning rate iterations (decay)\n",
        "learningRate = tf.train.exponential_decay(learning_rate=0.0008,\n",
        "                                          global_step= 1,\n",
        "                                          decay_steps=trainX.shape[0],\n",
        "                                          decay_rate= 0.95,\n",
        "                                          staircase=True)"
      ],
      "execution_count": null,
      "outputs": []
    },
    {
      "cell_type": "code",
      "metadata": {
        "id": "xjAvZF6Zxz2P",
        "colab_type": "code",
        "colab": {}
      },
      "source": [
        "#Defining our cost function - Squared Mean Error\n",
        "cost_OP = tf.nn.l2_loss(activation_OP-yGold, name=\"squared_error_cost\")\n",
        "\n",
        "#Defining our Gradient Descent\n",
        "training_OP = tf.train.GradientDescentOptimizer(learningRate).minimize(cost_OP)"
      ],
      "execution_count": null,
      "outputs": []
    },
    {
      "cell_type": "markdown",
      "metadata": {
        "id": "lqA_w22sxz2R",
        "colab_type": "text"
      },
      "source": [
        "Now we move on to actually running our operations. We will start with the operations involved in the prediction phase (i.e. the logistic regression itself).\n",
        "\n",
        "First, we need to initialize our weights and biases with zeros or random values via the inbuilt Initialization Op, <b>tf.initialize_all_variables()</b>. This Initialization Op will become a node in our computational graph, and when we put the graph into a session, then the Op will run and create the variables."
      ]
    },
    {
      "cell_type": "code",
      "metadata": {
        "id": "NcoRJJ6Bxz2R",
        "colab_type": "code",
        "colab": {}
      },
      "source": [
        "# Create a tensorflow session\n",
        "sess = tf.Session()\n",
        "\n",
        "# Initialize our weights and biases variables.\n",
        "init_OP = tf.global_variables_initializer()\n",
        "\n",
        "# Initialize all tensorflow variables\n",
        "sess.run(init_OP)"
      ],
      "execution_count": null,
      "outputs": []
    },
    {
      "cell_type": "markdown",
      "metadata": {
        "id": "YUAdLp_vxz2V",
        "colab_type": "text"
      },
      "source": [
        "We also want some additional operations to keep track of our model's efficiency over time. We can do this like so:"
      ]
    },
    {
      "cell_type": "code",
      "metadata": {
        "id": "v6fZf1TGxz2W",
        "colab_type": "code",
        "colab": {}
      },
      "source": [
        "# argmax(activation_OP, 1) returns the label with the most probability\n",
        "# argmax(yGold, 1) is the correct label\n",
        "correct_predictions_OP = tf.equal(tf.argmax(activation_OP,1),tf.argmax(yGold,1))\n",
        "\n",
        "# If every false prediction is 0 and every true prediction is 1, the average returns us the accuracy\n",
        "accuracy_OP = tf.reduce_mean(tf.cast(correct_predictions_OP, \"float\"))\n",
        "\n",
        "# Summary op for regression output\n",
        "activation_summary_OP = tf.summary.histogram(\"output\", activation_OP)\n",
        "\n",
        "# Summary op for accuracy\n",
        "accuracy_summary_OP = tf.summary.scalar(\"accuracy\", accuracy_OP)\n",
        "\n",
        "# Summary op for cost\n",
        "cost_summary_OP = tf.summary.scalar(\"cost\", cost_OP)\n",
        "\n",
        "# Summary ops to check how variables (W, b) are updating after each iteration\n",
        "weightSummary = tf.summary.histogram(\"weights\", weights.eval(session=sess))\n",
        "biasSummary = tf.summary.histogram(\"biases\", bias.eval(session=sess))\n",
        "\n",
        "# Merge all summaries\n",
        "merged = tf.summary.merge([activation_summary_OP, accuracy_summary_OP, cost_summary_OP, weightSummary, biasSummary])\n",
        "\n",
        "# Summary writer\n",
        "writer = tf.summary.FileWriter(\"summary_logs\", sess.graph)"
      ],
      "execution_count": null,
      "outputs": []
    },
    {
      "cell_type": "markdown",
      "metadata": {
        "id": "PYCPdbBTxz2a",
        "colab_type": "text"
      },
      "source": [
        "Now we can define and run the actual training loop, like this:"
      ]
    },
    {
      "cell_type": "code",
      "metadata": {
        "id": "iJweVzuJxz2b",
        "colab_type": "code",
        "colab": {
          "base_uri": "https://localhost:8080/",
          "height": 1000
        },
        "outputId": "a1d192cc-68f5-47c6-d140-b553850e0748"
      },
      "source": [
        "# Initialize reporting variables\n",
        "cost = 0\n",
        "diff = 1\n",
        "epoch_values = []\n",
        "accuracy_values = []\n",
        "cost_values = []\n",
        "\n",
        "# Training epochs\n",
        "for i in range(numEpochs):\n",
        "    if i > 1 and diff < .0001:\n",
        "        print(\"change in cost %g; convergence.\"%diff)\n",
        "        break\n",
        "    else:\n",
        "        # Run training step\n",
        "        step = sess.run(training_OP, feed_dict={X: trainX, yGold: trainY})\n",
        "        # Report occasional stats\n",
        "        if i % 10 == 0:\n",
        "            # Add epoch to epoch_values\n",
        "            epoch_values.append(i)\n",
        "            # Generate accuracy stats on test data\n",
        "            train_accuracy, newCost = sess.run([accuracy_OP, cost_OP], feed_dict={X: trainX, yGold: trainY})\n",
        "            # Add accuracy to live graphing variable\n",
        "            accuracy_values.append(train_accuracy)\n",
        "            # Add cost to live graphing variable\n",
        "            cost_values.append(newCost)\n",
        "            # Re-assign values for variables\n",
        "            diff = abs(newCost - cost)\n",
        "            cost = newCost\n",
        "\n",
        "            #generate print statements\n",
        "            print(\"step %d, training accuracy %g, cost %g, change in cost %g\"%(i, train_accuracy, newCost, diff))\n",
        "\n",
        "\n",
        "# How well do we perform on held-out test data?\n",
        "print(\"final accuracy on test set: %s\" %str(sess.run(accuracy_OP, \n",
        "                                                     feed_dict={X: testX, \n",
        "                                                                yGold: testY})))"
      ],
      "execution_count": null,
      "outputs": [
        {
          "output_type": "stream",
          "text": [
            "step 0, training accuracy 0.333333, cost 34.1769, change in cost 34.1769\n",
            "step 10, training accuracy 0.555556, cost 30.1427, change in cost 4.03423\n",
            "step 20, training accuracy 0.646465, cost 28.1886, change in cost 1.95409\n",
            "step 30, training accuracy 0.646465, cost 26.5377, change in cost 1.65095\n",
            "step 40, training accuracy 0.646465, cost 25.1653, change in cost 1.37234\n",
            "step 50, training accuracy 0.646465, cost 24.0315, change in cost 1.13382\n",
            "step 60, training accuracy 0.646465, cost 23.0932, change in cost 0.938339\n",
            "step 70, training accuracy 0.646465, cost 22.3117, change in cost 0.78149\n",
            "step 80, training accuracy 0.646465, cost 21.6551, change in cost 0.656588\n",
            "step 90, training accuracy 0.646465, cost 21.098, change in cost 0.557119\n",
            "step 100, training accuracy 0.666667, cost 20.6205, change in cost 0.477514\n",
            "step 110, training accuracy 0.666667, cost 20.2071, change in cost 0.413372\n",
            "step 120, training accuracy 0.666667, cost 19.8458, change in cost 0.361252\n",
            "step 130, training accuracy 0.666667, cost 19.5273, change in cost 0.318525\n",
            "step 140, training accuracy 0.666667, cost 19.2441, change in cost 0.283199\n",
            "step 150, training accuracy 0.666667, cost 18.9904, change in cost 0.253735\n",
            "step 160, training accuracy 0.686869, cost 18.7614, change in cost 0.228956\n",
            "step 170, training accuracy 0.686869, cost 18.5535, change in cost 0.20796\n",
            "step 180, training accuracy 0.69697, cost 18.3634, change in cost 0.190025\n",
            "step 190, training accuracy 0.717172, cost 18.1888, change in cost 0.174606\n",
            "step 200, training accuracy 0.717172, cost 18.0276, change in cost 0.161259\n",
            "step 210, training accuracy 0.737374, cost 17.8779, change in cost 0.14963\n",
            "step 220, training accuracy 0.747475, cost 17.7385, change in cost 0.139439\n",
            "step 230, training accuracy 0.747475, cost 17.608, change in cost 0.130459\n",
            "step 240, training accuracy 0.757576, cost 17.4855, change in cost 0.122509\n",
            "step 250, training accuracy 0.787879, cost 17.3701, change in cost 0.115429\n",
            "step 260, training accuracy 0.787879, cost 17.261, change in cost 0.109095\n",
            "step 270, training accuracy 0.787879, cost 17.1576, change in cost 0.103409\n",
            "step 280, training accuracy 0.787879, cost 17.0593, change in cost 0.0982742\n",
            "step 290, training accuracy 0.79798, cost 16.9657, change in cost 0.093626\n",
            "step 300, training accuracy 0.79798, cost 16.8763, change in cost 0.0894012\n",
            "step 310, training accuracy 0.79798, cost 16.7907, change in cost 0.0855427\n",
            "step 320, training accuracy 0.79798, cost 16.7087, change in cost 0.0820141\n",
            "step 330, training accuracy 0.79798, cost 16.63, change in cost 0.0787678\n",
            "step 340, training accuracy 0.818182, cost 16.5542, change in cost 0.0757847\n",
            "step 350, training accuracy 0.828283, cost 16.4812, change in cost 0.0730209\n",
            "step 360, training accuracy 0.838384, cost 16.4107, change in cost 0.0704594\n",
            "step 370, training accuracy 0.838384, cost 16.3426, change in cost 0.0680828\n",
            "step 380, training accuracy 0.838384, cost 16.2767, change in cost 0.0658722\n",
            "step 390, training accuracy 0.848485, cost 16.2129, change in cost 0.0638027\n",
            "step 400, training accuracy 0.848485, cost 16.1511, change in cost 0.0618629\n",
            "step 410, training accuracy 0.848485, cost 16.091, change in cost 0.0600548\n",
            "step 420, training accuracy 0.848485, cost 16.0327, change in cost 0.0583439\n",
            "step 430, training accuracy 0.858586, cost 15.9759, change in cost 0.0567398\n",
            "step 440, training accuracy 0.858586, cost 15.9207, change in cost 0.0552244\n",
            "step 450, training accuracy 0.868687, cost 15.8669, change in cost 0.0537901\n",
            "step 460, training accuracy 0.878788, cost 15.8145, change in cost 0.0524349\n",
            "step 470, training accuracy 0.878788, cost 15.7633, change in cost 0.0511484\n",
            "step 480, training accuracy 0.878788, cost 15.7134, change in cost 0.0499249\n",
            "step 490, training accuracy 0.878788, cost 15.6647, change in cost 0.0487642\n",
            "step 500, training accuracy 0.878788, cost 15.617, change in cost 0.0476561\n",
            "step 510, training accuracy 0.878788, cost 15.5704, change in cost 0.0466003\n",
            "step 520, training accuracy 0.878788, cost 15.5248, change in cost 0.0455894\n",
            "step 530, training accuracy 0.888889, cost 15.4802, change in cost 0.0446262\n",
            "step 540, training accuracy 0.89899, cost 15.4365, change in cost 0.0436993\n",
            "step 550, training accuracy 0.89899, cost 15.3937, change in cost 0.0428133\n",
            "step 560, training accuracy 0.89899, cost 15.3517, change in cost 0.0419645\n",
            "step 570, training accuracy 0.89899, cost 15.3106, change in cost 0.0411472\n",
            "step 580, training accuracy 0.909091, cost 15.2702, change in cost 0.0403624\n",
            "step 590, training accuracy 0.909091, cost 15.2306, change in cost 0.0396032\n",
            "step 600, training accuracy 0.909091, cost 15.1917, change in cost 0.0388775\n",
            "step 610, training accuracy 0.909091, cost 15.1535, change in cost 0.0381737\n",
            "step 620, training accuracy 0.909091, cost 15.116, change in cost 0.0374985\n",
            "step 630, training accuracy 0.909091, cost 15.0792, change in cost 0.0368414\n",
            "step 640, training accuracy 0.909091, cost 15.043, change in cost 0.0362091\n",
            "step 650, training accuracy 0.909091, cost 15.0074, change in cost 0.0355959\n",
            "step 660, training accuracy 0.909091, cost 14.9724, change in cost 0.0350056\n",
            "step 670, training accuracy 0.909091, cost 14.938, change in cost 0.0344296\n",
            "step 680, training accuracy 0.909091, cost 14.9041, change in cost 0.0338745\n",
            "step 690, training accuracy 0.909091, cost 14.8708, change in cost 0.0333347\n",
            "final accuracy on test set: 0.9\n"
          ],
          "name": "stdout"
        }
      ]
    },
    {
      "cell_type": "markdown",
      "metadata": {
        "id": "U0OWfAJ4xz2g",
        "colab_type": "text"
      },
      "source": [
        "<b>Why don't we plot the cost to see how it behaves?</b>"
      ]
    },
    {
      "cell_type": "code",
      "metadata": {
        "id": "SXDuAMetxz2h",
        "colab_type": "code",
        "colab": {
          "base_uri": "https://localhost:8080/",
          "height": 332
        },
        "outputId": "2b91afb3-8e3e-441a-909e-300f7db871ac"
      },
      "source": [
        "%matplotlib inline\n",
        "import numpy as np\n",
        "import matplotlib.pyplot as plt\n",
        "plt.plot([np.mean(cost_values[i-50:i]) for i in range(len(cost_values))])\n",
        "plt.show()"
      ],
      "execution_count": null,
      "outputs": [
        {
          "output_type": "stream",
          "text": [
            "/usr/local/lib/python3.6/dist-packages/numpy/core/fromnumeric.py:3335: RuntimeWarning: Mean of empty slice.\n",
            "  out=out, **kwargs)\n",
            "/usr/local/lib/python3.6/dist-packages/numpy/core/_methods.py:161: RuntimeWarning: invalid value encountered in double_scalars\n",
            "  ret = ret.dtype.type(ret / rcount)\n"
          ],
          "name": "stderr"
        },
        {
          "output_type": "display_data",
          "data": {
            "image/png": "[encoded data removed]",
            "text/plain": [
              "<Figure size 432x288 with 1 Axes>"
            ]
          },
          "metadata": {
            "tags": [],
            "needs_background": "light"
          }
        }
      ]
    },
    {
      "cell_type": "markdown",
      "metadata": {
        "id": "NYd1ZW22xz2j",
        "colab_type": "text"
      },
      "source": [
        "Assuming no parameters were changed, you should reach a peak accuracy of 90% at the end of training, which is commendable. Try changing the parameters such as the length of training, and maybe some operations to see how the model behaves. Does it take much longer? How is the performance?"
      ]
    },
    {
      "cell_type": "markdown",
      "metadata": {
        "id": "idFJOCaExz2k",
        "colab_type": "text"
      },
      "source": [
        "<hr>"
      ]
    }
  ]
}