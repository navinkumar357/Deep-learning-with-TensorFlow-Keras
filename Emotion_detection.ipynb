{
  "nbformat": 4,
  "nbformat_minor": 0,
  "metadata": {
    "colab": {
      "name": "Emotion_detection.ipynb",
      "provenance": [],
      "authorship_tag": "ABX9TyNBHT+gMH3e7W1Jrkv+kBVa"
    },
    "kernelspec": {
      "name": "python3",
      "display_name": "Python 3"
    },
    "accelerator": "GPU"
  },
  "cells": [
    {
      "cell_type": "code",
      "metadata": {
        "id": "bSkNDEy0Mt1R",
        "colab_type": "code",
        "colab": {
          "base_uri": "https://localhost:8080/",
          "height": 121
        },
        "outputId": "a80fef01-6ab9-4d44-889f-2ab886996e43"
      },
      "source": [
        "from google.colab import drive\n",
        "drive.mount('/content/drive')"
      ],
      "execution_count": 1,
      "outputs": [
        {
          "output_type": "stream",
          "text": [
            "Go to this URL in a browser: https://accounts.google.com/o/oauth2/auth?client_id=947318989803-6bn6qk8qdgf4n4g3pfee6491hc0brc4i.apps.googleusercontent.com&redirect_uri=urn%3aietf%3awg%3aoauth%3a2.0%3aoob&scope=email%20https%3a%2f%2fwww.googleapis.com%2fauth%2fdocs.test%20https%3a%2f%2fwww.googleapis.com%2fauth%2fdrive%20https%3a%2f%2fwww.googleapis.com%2fauth%2fdrive.photos.readonly%20https%3a%2f%2fwww.googleapis.com%2fauth%2fpeopleapi.readonly&response_type=code\n",
            "\n",
            "Enter your authorization code:\n",
            "··········\n",
            "Mounted at /content/drive\n"
          ],
          "name": "stdout"
        }
      ]
    },
    {
      "cell_type": "code",
      "metadata": {
        "id": "WStZ4p9FM0vz",
        "colab_type": "code",
        "colab": {
          "base_uri": "https://localhost:8080/",
          "height": 151
        },
        "outputId": "5d1fbaba-34f2-4eb6-ac95-b623d1298ea9"
      },
      "source": [
        "!apt install unzip"
      ],
      "execution_count": 2,
      "outputs": [
        {
          "output_type": "stream",
          "text": [
            "Reading package lists... Done\n",
            "Building dependency tree       \n",
            "Reading state information... Done\n",
            "unzip is already the newest version (6.0-21ubuntu1).\n",
            "The following package was automatically installed and is no longer required:\n",
            "  libnvidia-common-440\n",
            "Use 'apt autoremove' to remove it.\n",
            "0 upgraded, 0 newly installed, 0 to remove and 35 not upgraded.\n"
          ],
          "name": "stdout"
        }
      ]
    },
    {
      "cell_type": "code",
      "metadata": {
        "id": "wvw5bPCjM6iU",
        "colab_type": "code",
        "colab": {}
      },
      "source": [
        "!unzip -q \"/content/drive/My Drive/Colab Notebooks/Emotion_detection/face-expression-recognition-dataset.zip\""
      ],
      "execution_count": 3,
      "outputs": []
    },
    {
      "cell_type": "code",
      "metadata": {
        "id": "zxQ_VJXoNDtI",
        "colab_type": "code",
        "colab": {
          "base_uri": "https://localhost:8080/",
          "height": 35
        },
        "outputId": "3cfec07e-8383-4ebb-c88f-4841dab1f2ea"
      },
      "source": [
        "import tensorflow as tf\n",
        "tf.__version__"
      ],
      "execution_count": 4,
      "outputs": [
        {
          "output_type": "execute_result",
          "data": {
            "application/vnd.google.colaboratory.intrinsic+json": {
              "type": "string"
            },
            "text/plain": [
              "'2.3.0'"
            ]
          },
          "metadata": {
            "tags": []
          },
          "execution_count": 4
        }
      ]
    },
    {
      "cell_type": "code",
      "metadata": {
        "id": "AB883qzXNMH4",
        "colab_type": "code",
        "colab": {}
      },
      "source": [
        "from __future__ import print_function"
      ],
      "execution_count": 5,
      "outputs": []
    },
    {
      "cell_type": "code",
      "metadata": {
        "id": "YBvY-hxANdcI",
        "colab_type": "code",
        "colab": {}
      },
      "source": [
        "import keras\n",
        "from keras.preprocessing.image import ImageDataGenerator\n",
        "from keras.models import Sequential\n",
        "from keras.layers import Dense,Dropout,Activation,Flatten,BatchNormalization\n",
        "from keras.layers import Conv2D,MaxPooling2D\n",
        "import os"
      ],
      "execution_count": 6,
      "outputs": []
    },
    {
      "cell_type": "code",
      "metadata": {
        "id": "O8kXvGEoSTR5",
        "colab_type": "code",
        "colab": {}
      },
      "source": [
        "num_classes = 7\n",
        "img_rows,img_cols = 48,48\n",
        "batch_size = 32"
      ],
      "execution_count": 7,
      "outputs": []
    },
    {
      "cell_type": "code",
      "metadata": {
        "id": "BcaRTStYSW7Y",
        "colab_type": "code",
        "colab": {}
      },
      "source": [
        "train_data_dir = '/content/images/train'\n",
        "validation_data_dir = '/content/images/validation'"
      ],
      "execution_count": 8,
      "outputs": []
    },
    {
      "cell_type": "code",
      "metadata": {
        "id": "8E9jnXSISjY_",
        "colab_type": "code",
        "colab": {}
      },
      "source": [
        "train_datagen = ImageDataGenerator(\n",
        "                                    rescale=1./255,\n",
        "                                    rotation_range=30,\n",
        "                                    shear_range=0.3,\n",
        "                                    zoom_range=0.3,\n",
        "                                    width_shift_range=0.4,\n",
        "                                    height_shift_range=0.4,\n",
        "                                    horizontal_flip=True,\n",
        "                                    fill_mode='nearest')"
      ],
      "execution_count": 14,
      "outputs": []
    },
    {
      "cell_type": "code",
      "metadata": {
        "id": "N1_1p5b6S9yJ",
        "colab_type": "code",
        "colab": {}
      },
      "source": [
        "validation_datagen = ImageDataGenerator(rescale=1./255)"
      ],
      "execution_count": 15,
      "outputs": []
    },
    {
      "cell_type": "code",
      "metadata": {
        "id": "A4z5-GE0TAYw",
        "colab_type": "code",
        "colab": {
          "base_uri": "https://localhost:8080/",
          "height": 34
        },
        "outputId": "6372e83b-235c-4d3f-87f6-7ade34ab63a9"
      },
      "source": [
        "train_generator = train_datagen.flow_from_directory(\n",
        "\t\t\t\t\ttrain_data_dir,\n",
        "\t\t\t\t\tcolor_mode='grayscale',\n",
        "\t\t\t\t\ttarget_size=(img_rows,img_cols),\n",
        "\t\t\t\t\tbatch_size=batch_size,\n",
        "\t\t\t\t\tclass_mode='categorical',\n",
        "\t\t\t\t\tshuffle=True)"
      ],
      "execution_count": 16,
      "outputs": [
        {
          "output_type": "stream",
          "text": [
            "Found 28821 images belonging to 7 classes.\n"
          ],
          "name": "stdout"
        }
      ]
    },
    {
      "cell_type": "code",
      "metadata": {
        "id": "G1nAkArqTCPw",
        "colab_type": "code",
        "colab": {
          "base_uri": "https://localhost:8080/",
          "height": 34
        },
        "outputId": "d8a7f785-7db8-4527-f5cd-5e3ce76e3977"
      },
      "source": [
        "validation_generator = validation_datagen.flow_from_directory(\n",
        "\t\t\t\t\t\t\tvalidation_data_dir,\n",
        "\t\t\t\t\t\t\tcolor_mode='grayscale',\n",
        "\t\t\t\t\t\t\ttarget_size=(img_rows,img_cols),\n",
        "\t\t\t\t\t\t\tbatch_size=batch_size,\n",
        "\t\t\t\t\t\t\tclass_mode='categorical',\n",
        "\t\t\t\t\t\t\tshuffle=True)"
      ],
      "execution_count": 59,
      "outputs": [
        {
          "output_type": "stream",
          "text": [
            "Found 7066 images belonging to 7 classes.\n"
          ],
          "name": "stdout"
        }
      ]
    },
    {
      "cell_type": "code",
      "metadata": {
        "id": "HhRLQSgeTFSg",
        "colab_type": "code",
        "colab": {}
      },
      "source": [
        "model = Sequential()\n",
        "model.add(Conv2D(32,(3,3),padding='same',input_shape=(img_rows,img_cols,1)))\n",
        "model.add(Activation('relu'))\n",
        "model.add(BatchNormalization())\n",
        "model.add(Conv2D(32,(3,3),padding='same',input_shape=(img_rows,img_cols,1)))\n",
        "model.add(Activation('relu'))\n",
        "model.add(BatchNormalization())\n",
        "model.add(MaxPooling2D(pool_size=(2,2)))\n",
        "model.add(Dropout(0.2))"
      ],
      "execution_count": 62,
      "outputs": []
    },
    {
      "cell_type": "code",
      "metadata": {
        "id": "k2NtdG7gTL85",
        "colab_type": "code",
        "colab": {}
      },
      "source": [
        "model.add(Conv2D(64,(3,3),padding='same'))\n",
        "model.add(Activation('relu'))\n",
        "model.add(BatchNormalization())\n",
        "model.add(Conv2D(64,(3,3),padding='same'))\n",
        "model.add(Activation('relu'))\n",
        "model.add(BatchNormalization())\n",
        "model.add(MaxPooling2D(pool_size=(2,2)))\n",
        "model.add(Dropout(0.2))\n"
      ],
      "execution_count": 63,
      "outputs": []
    },
    {
      "cell_type": "code",
      "metadata": {
        "id": "1fNOmX8aVWAZ",
        "colab_type": "code",
        "colab": {}
      },
      "source": [
        "model.add(Conv2D(128,(3,3),padding='same'))\n",
        "model.add(Activation('relu'))\n",
        "model.add(BatchNormalization())\n",
        "model.add(Conv2D(128,(3,3),padding='same'))\n",
        "model.add(Activation('relu'))\n",
        "model.add(BatchNormalization())\n",
        "model.add(MaxPooling2D(pool_size=(2,2)))\n",
        "model.add(Dropout(0.2))"
      ],
      "execution_count": 64,
      "outputs": []
    },
    {
      "cell_type": "code",
      "metadata": {
        "id": "ZM22lDNxVeJQ",
        "colab_type": "code",
        "colab": {}
      },
      "source": [
        "model.add(Conv2D(256,(3,3),padding='same'))\n",
        "model.add(Activation('relu'))\n",
        "model.add(BatchNormalization())\n",
        "model.add(Conv2D(256,(3,3),padding='same'))\n",
        "model.add(Activation('relu'))\n",
        "model.add(BatchNormalization())\n",
        "model.add(MaxPooling2D(pool_size=(2,2)))\n",
        "model.add(Dropout(0.2))"
      ],
      "execution_count": 65,
      "outputs": []
    },
    {
      "cell_type": "code",
      "metadata": {
        "id": "Csa8U6s0VhKg",
        "colab_type": "code",
        "colab": {}
      },
      "source": [
        "model.add(Flatten())\n",
        "model.add(Dense(64))\n",
        "model.add(Activation('relu'))\n",
        "model.add(BatchNormalization())\n",
        "model.add(Dropout(0.2))\n"
      ],
      "execution_count": 66,
      "outputs": []
    },
    {
      "cell_type": "code",
      "metadata": {
        "id": "OoQLBuwZX9wp",
        "colab_type": "code",
        "colab": {}
      },
      "source": [
        "model.add(Dense(64))\n",
        "model.add(Activation('relu'))\n",
        "model.add(BatchNormalization())\n",
        "model.add(Dropout(0.2))"
      ],
      "execution_count": 67,
      "outputs": []
    },
    {
      "cell_type": "code",
      "metadata": {
        "id": "vgKSAKIaYBng",
        "colab_type": "code",
        "colab": {}
      },
      "source": [
        "model.add(Dense(num_classes))\n",
        "model.add(Activation('softmax'))"
      ],
      "execution_count": 68,
      "outputs": []
    },
    {
      "cell_type": "code",
      "metadata": {
        "id": "H4pcsVB_YD_K",
        "colab_type": "code",
        "colab": {
          "base_uri": "https://localhost:8080/",
          "height": 1000
        },
        "outputId": "03254ee7-7d8d-4d17-e7c8-70d8dc36a414"
      },
      "source": [
        "print(model.summary())"
      ],
      "execution_count": 69,
      "outputs": [
        {
          "output_type": "stream",
          "text": [
            "Model: \"sequential_7\"\n",
            "_________________________________________________________________\n",
            "Layer (type)                 Output Shape              Param #   \n",
            "=================================================================\n",
            "conv2d_30 (Conv2D)           (None, 48, 48, 32)        320       \n",
            "_________________________________________________________________\n",
            "activation_39 (Activation)   (None, 48, 48, 32)        0         \n",
            "_________________________________________________________________\n",
            "batch_normalization_36 (Batc (None, 48, 48, 32)        128       \n",
            "_________________________________________________________________\n",
            "conv2d_31 (Conv2D)           (None, 48, 48, 32)        9248      \n",
            "_________________________________________________________________\n",
            "activation_40 (Activation)   (None, 48, 48, 32)        0         \n",
            "_________________________________________________________________\n",
            "batch_normalization_37 (Batc (None, 48, 48, 32)        128       \n",
            "_________________________________________________________________\n",
            "max_pooling2d_15 (MaxPooling (None, 24, 24, 32)        0         \n",
            "_________________________________________________________________\n",
            "dropout_21 (Dropout)         (None, 24, 24, 32)        0         \n",
            "_________________________________________________________________\n",
            "conv2d_32 (Conv2D)           (None, 24, 24, 64)        18496     \n",
            "_________________________________________________________________\n",
            "activation_41 (Activation)   (None, 24, 24, 64)        0         \n",
            "_________________________________________________________________\n",
            "batch_normalization_38 (Batc (None, 24, 24, 64)        256       \n",
            "_________________________________________________________________\n",
            "conv2d_33 (Conv2D)           (None, 24, 24, 64)        36928     \n",
            "_________________________________________________________________\n",
            "activation_42 (Activation)   (None, 24, 24, 64)        0         \n",
            "_________________________________________________________________\n",
            "batch_normalization_39 (Batc (None, 24, 24, 64)        256       \n",
            "_________________________________________________________________\n",
            "max_pooling2d_16 (MaxPooling (None, 12, 12, 64)        0         \n",
            "_________________________________________________________________\n",
            "dropout_22 (Dropout)         (None, 12, 12, 64)        0         \n",
            "_________________________________________________________________\n",
            "conv2d_34 (Conv2D)           (None, 12, 12, 128)       73856     \n",
            "_________________________________________________________________\n",
            "activation_43 (Activation)   (None, 12, 12, 128)       0         \n",
            "_________________________________________________________________\n",
            "batch_normalization_40 (Batc (None, 12, 12, 128)       512       \n",
            "_________________________________________________________________\n",
            "conv2d_35 (Conv2D)           (None, 12, 12, 128)       147584    \n",
            "_________________________________________________________________\n",
            "activation_44 (Activation)   (None, 12, 12, 128)       0         \n",
            "_________________________________________________________________\n",
            "batch_normalization_41 (Batc (None, 12, 12, 128)       512       \n",
            "_________________________________________________________________\n",
            "max_pooling2d_17 (MaxPooling (None, 6, 6, 128)         0         \n",
            "_________________________________________________________________\n",
            "dropout_23 (Dropout)         (None, 6, 6, 128)         0         \n",
            "_________________________________________________________________\n",
            "conv2d_36 (Conv2D)           (None, 6, 6, 256)         295168    \n",
            "_________________________________________________________________\n",
            "activation_45 (Activation)   (None, 6, 6, 256)         0         \n",
            "_________________________________________________________________\n",
            "batch_normalization_42 (Batc (None, 6, 6, 256)         1024      \n",
            "_________________________________________________________________\n",
            "conv2d_37 (Conv2D)           (None, 6, 6, 256)         590080    \n",
            "_________________________________________________________________\n",
            "activation_46 (Activation)   (None, 6, 6, 256)         0         \n",
            "_________________________________________________________________\n",
            "batch_normalization_43 (Batc (None, 6, 6, 256)         1024      \n",
            "_________________________________________________________________\n",
            "max_pooling2d_18 (MaxPooling (None, 3, 3, 256)         0         \n",
            "_________________________________________________________________\n",
            "dropout_24 (Dropout)         (None, 3, 3, 256)         0         \n",
            "_________________________________________________________________\n",
            "flatten_3 (Flatten)          (None, 2304)              0         \n",
            "_________________________________________________________________\n",
            "dense_9 (Dense)              (None, 64)                147520    \n",
            "_________________________________________________________________\n",
            "activation_47 (Activation)   (None, 64)                0         \n",
            "_________________________________________________________________\n",
            "batch_normalization_44 (Batc (None, 64)                256       \n",
            "_________________________________________________________________\n",
            "dropout_25 (Dropout)         (None, 64)                0         \n",
            "_________________________________________________________________\n",
            "dense_10 (Dense)             (None, 64)                4160      \n",
            "_________________________________________________________________\n",
            "activation_48 (Activation)   (None, 64)                0         \n",
            "_________________________________________________________________\n",
            "batch_normalization_45 (Batc (None, 64)                256       \n",
            "_________________________________________________________________\n",
            "dropout_26 (Dropout)         (None, 64)                0         \n",
            "_________________________________________________________________\n",
            "dense_11 (Dense)             (None, 7)                 455       \n",
            "_________________________________________________________________\n",
            "activation_49 (Activation)   (None, 7)                 0         \n",
            "=================================================================\n",
            "Total params: 1,328,167\n",
            "Trainable params: 1,325,991\n",
            "Non-trainable params: 2,176\n",
            "_________________________________________________________________\n",
            "None\n"
          ],
          "name": "stdout"
        }
      ]
    },
    {
      "cell_type": "code",
      "metadata": {
        "id": "6bRNdvhZYFIx",
        "colab_type": "code",
        "colab": {}
      },
      "source": [
        "from keras.optimizers import RMSprop,SGD,Adam\n",
        "from keras.callbacks import ModelCheckpoint, EarlyStopping, ReduceLROnPlateau"
      ],
      "execution_count": 70,
      "outputs": []
    },
    {
      "cell_type": "code",
      "metadata": {
        "id": "PU7WBq3zYbaP",
        "colab_type": "code",
        "colab": {}
      },
      "source": [
        "# checkpoint = ModelCheckpoint('Emotion_detection_vgg.h5',\n",
        "#                              monitor='val_loss',\n",
        "#                              mode='min',\n",
        "#                              save_best_only=True,\n",
        "#                              verbose=1)\n",
        "\n",
        "# earlystop = EarlyStopping(monitor='val_loss',\n",
        "#                           min_delta=0,\n",
        "#                           patience=3,\n",
        "#                           verbose=1,\n",
        "#                           restore_best_weights=True\n",
        "#                           )\n",
        "\n",
        "# reduce_lr = ReduceLROnPlateau(monitor='val_loss',\n",
        "#                               factor=0.2,\n",
        "#                               patience=3,\n",
        "#                               verbose=1,\n",
        "#                               min_delta=0.0001)"
      ],
      "execution_count": 32,
      "outputs": []
    },
    {
      "cell_type": "code",
      "metadata": {
        "id": "Wy1-n0SNYkF_",
        "colab_type": "code",
        "colab": {}
      },
      "source": [
        "# callbacks = [earlystop,checkpoint,reduce_lr]\n"
      ],
      "execution_count": 33,
      "outputs": []
    },
    {
      "cell_type": "code",
      "metadata": {
        "id": "f85E1XugYl3g",
        "colab_type": "code",
        "colab": {}
      },
      "source": [
        "\n",
        "model.compile(loss='categorical_crossentropy',\n",
        "              optimizer = 'Adam',\n",
        "              metrics=['accuracy'])"
      ],
      "execution_count": 71,
      "outputs": []
    },
    {
      "cell_type": "code",
      "metadata": {
        "id": "j5EkIaREYsDx",
        "colab_type": "code",
        "colab": {
          "base_uri": "https://localhost:8080/",
          "height": 1000
        },
        "outputId": "cb53d7ae-08d2-4920-caea-dc712a55087e"
      },
      "source": [
        "train_samples = 28821\n",
        "validation_samples = 7066\n",
        "epochs=75\n",
        "\n",
        "out=model.fit_generator(\n",
        "                train_generator,\n",
        "                steps_per_epoch = train_samples//batch_size,\n",
        "                epochs = epochs,\n",
        "                validation_data = validation_generator,\n",
        "                validation_steps = validation_samples//batch_size)\n"
      ],
      "execution_count": 72,
      "outputs": [
        {
          "output_type": "stream",
          "text": [
            "Epoch 1/75\n",
            "900/900 [==============================] - 38s 42ms/step - loss: 1.9602 - accuracy: 0.2095 - val_loss: 1.7698 - val_accuracy: 0.2678\n",
            "Epoch 2/75\n",
            "900/900 [==============================] - 37s 42ms/step - loss: 1.8161 - accuracy: 0.2371 - val_loss: 1.8162 - val_accuracy: 0.2594\n",
            "Epoch 3/75\n",
            "900/900 [==============================] - 37s 41ms/step - loss: 1.7943 - accuracy: 0.2485 - val_loss: 1.7470 - val_accuracy: 0.2781\n",
            "Epoch 4/75\n",
            "900/900 [==============================] - 37s 41ms/step - loss: 1.7552 - accuracy: 0.2736 - val_loss: 1.7783 - val_accuracy: 0.2767\n",
            "Epoch 5/75\n",
            "900/900 [==============================] - 37s 42ms/step - loss: 1.6705 - accuracy: 0.3294 - val_loss: 1.8034 - val_accuracy: 0.3128\n",
            "Epoch 6/75\n",
            "900/900 [==============================] - 37s 41ms/step - loss: 1.5832 - accuracy: 0.3764 - val_loss: 1.4676 - val_accuracy: 0.4182\n",
            "Epoch 7/75\n",
            "900/900 [==============================] - 37s 41ms/step - loss: 1.5215 - accuracy: 0.4062 - val_loss: 1.3514 - val_accuracy: 0.4760\n",
            "Epoch 8/75\n",
            "900/900 [==============================] - 37s 41ms/step - loss: 1.4715 - accuracy: 0.4303 - val_loss: 1.2952 - val_accuracy: 0.5007\n",
            "Epoch 9/75\n",
            "900/900 [==============================] - 38s 42ms/step - loss: 1.4309 - accuracy: 0.4494 - val_loss: 1.2362 - val_accuracy: 0.5199\n",
            "Epoch 10/75\n",
            "900/900 [==============================] - 37s 41ms/step - loss: 1.4031 - accuracy: 0.4603 - val_loss: 1.3410 - val_accuracy: 0.4859\n",
            "Epoch 11/75\n",
            "900/900 [==============================] - 37s 41ms/step - loss: 1.3726 - accuracy: 0.4750 - val_loss: 1.1515 - val_accuracy: 0.5631\n",
            "Epoch 12/75\n",
            "900/900 [==============================] - 37s 41ms/step - loss: 1.3587 - accuracy: 0.4815 - val_loss: 1.1780 - val_accuracy: 0.5553\n",
            "Epoch 13/75\n",
            "900/900 [==============================] - 38s 42ms/step - loss: 1.3346 - accuracy: 0.4913 - val_loss: 1.1580 - val_accuracy: 0.5564\n",
            "Epoch 14/75\n",
            "900/900 [==============================] - 37s 41ms/step - loss: 1.3182 - accuracy: 0.5028 - val_loss: 1.1391 - val_accuracy: 0.5629\n",
            "Epoch 15/75\n",
            "900/900 [==============================] - 37s 41ms/step - loss: 1.3070 - accuracy: 0.5048 - val_loss: 1.0702 - val_accuracy: 0.6034\n",
            "Epoch 16/75\n",
            "900/900 [==============================] - 37s 41ms/step - loss: 1.2909 - accuracy: 0.5102 - val_loss: 1.0968 - val_accuracy: 0.5903\n",
            "Epoch 17/75\n",
            "900/900 [==============================] - 37s 41ms/step - loss: 1.2777 - accuracy: 0.5140 - val_loss: 1.0981 - val_accuracy: 0.5835\n",
            "Epoch 18/75\n",
            "900/900 [==============================] - 37s 41ms/step - loss: 1.2633 - accuracy: 0.5240 - val_loss: 1.0997 - val_accuracy: 0.5888\n",
            "Epoch 19/75\n",
            "900/900 [==============================] - 36s 40ms/step - loss: 1.2579 - accuracy: 0.5260 - val_loss: 1.0445 - val_accuracy: 0.6068\n",
            "Epoch 20/75\n",
            "900/900 [==============================] - 36s 40ms/step - loss: 1.2580 - accuracy: 0.5236 - val_loss: 1.1642 - val_accuracy: 0.5662\n",
            "Epoch 21/75\n",
            "900/900 [==============================] - 36s 40ms/step - loss: 1.2392 - accuracy: 0.5336 - val_loss: 1.0618 - val_accuracy: 0.6043\n",
            "Epoch 22/75\n",
            "900/900 [==============================] - 36s 40ms/step - loss: 1.2365 - accuracy: 0.5322 - val_loss: 1.0266 - val_accuracy: 0.6180\n",
            "Epoch 23/75\n",
            "900/900 [==============================] - 35s 39ms/step - loss: 1.2250 - accuracy: 0.5407 - val_loss: 1.0394 - val_accuracy: 0.6082\n",
            "Epoch 24/75\n",
            "900/900 [==============================] - 35s 39ms/step - loss: 1.2131 - accuracy: 0.5446 - val_loss: 1.0321 - val_accuracy: 0.6149\n",
            "Epoch 25/75\n",
            "900/900 [==============================] - 35s 39ms/step - loss: 1.2144 - accuracy: 0.5460 - val_loss: 1.0278 - val_accuracy: 0.6172\n",
            "Epoch 26/75\n",
            "900/900 [==============================] - 35s 39ms/step - loss: 1.2094 - accuracy: 0.5432 - val_loss: 1.0326 - val_accuracy: 0.6143\n",
            "Epoch 27/75\n",
            "900/900 [==============================] - 35s 39ms/step - loss: 1.2015 - accuracy: 0.5517 - val_loss: 1.0548 - val_accuracy: 0.6071\n",
            "Epoch 28/75\n",
            "900/900 [==============================] - 36s 40ms/step - loss: 1.2003 - accuracy: 0.5472 - val_loss: 1.0147 - val_accuracy: 0.6186\n",
            "Epoch 29/75\n",
            "900/900 [==============================] - 35s 39ms/step - loss: 1.1929 - accuracy: 0.5524 - val_loss: 0.9904 - val_accuracy: 0.6273\n",
            "Epoch 30/75\n",
            "900/900 [==============================] - 35s 39ms/step - loss: 1.1898 - accuracy: 0.5535 - val_loss: 1.0254 - val_accuracy: 0.6216\n",
            "Epoch 31/75\n",
            "900/900 [==============================] - 36s 40ms/step - loss: 1.1859 - accuracy: 0.5535 - val_loss: 1.0051 - val_accuracy: 0.6142\n",
            "Epoch 32/75\n",
            "900/900 [==============================] - 35s 39ms/step - loss: 1.1836 - accuracy: 0.5573 - val_loss: 1.0223 - val_accuracy: 0.6176\n",
            "Epoch 33/75\n",
            "900/900 [==============================] - 35s 39ms/step - loss: 1.1731 - accuracy: 0.5597 - val_loss: 0.9972 - val_accuracy: 0.6321\n",
            "Epoch 34/75\n",
            "900/900 [==============================] - 35s 39ms/step - loss: 1.1693 - accuracy: 0.5625 - val_loss: 0.9835 - val_accuracy: 0.6311\n",
            "Epoch 35/75\n",
            "900/900 [==============================] - 35s 39ms/step - loss: 1.1695 - accuracy: 0.5600 - val_loss: 0.9888 - val_accuracy: 0.6371\n",
            "Epoch 36/75\n",
            "900/900 [==============================] - 34s 38ms/step - loss: 1.1650 - accuracy: 0.5644 - val_loss: 0.9724 - val_accuracy: 0.6398\n",
            "Epoch 37/75\n",
            "900/900 [==============================] - 34s 38ms/step - loss: 1.1592 - accuracy: 0.5662 - val_loss: 0.9918 - val_accuracy: 0.6268\n",
            "Epoch 38/75\n",
            "900/900 [==============================] - 34s 38ms/step - loss: 1.1551 - accuracy: 0.5661 - val_loss: 0.9808 - val_accuracy: 0.6287\n",
            "Epoch 39/75\n",
            "900/900 [==============================] - 34s 38ms/step - loss: 1.1478 - accuracy: 0.5686 - val_loss: 0.9504 - val_accuracy: 0.6459\n",
            "Epoch 40/75\n",
            "900/900 [==============================] - 34s 38ms/step - loss: 1.1456 - accuracy: 0.5731 - val_loss: 0.9779 - val_accuracy: 0.6354\n",
            "Epoch 41/75\n",
            "900/900 [==============================] - 34s 38ms/step - loss: 1.1445 - accuracy: 0.5708 - val_loss: 0.9873 - val_accuracy: 0.6321\n",
            "Epoch 42/75\n",
            "900/900 [==============================] - 34s 38ms/step - loss: 1.1422 - accuracy: 0.5747 - val_loss: 0.9704 - val_accuracy: 0.6362\n",
            "Epoch 43/75\n",
            "900/900 [==============================] - 34s 38ms/step - loss: 1.1402 - accuracy: 0.5713 - val_loss: 1.0019 - val_accuracy: 0.6259\n",
            "Epoch 44/75\n",
            "900/900 [==============================] - 34s 38ms/step - loss: 1.1317 - accuracy: 0.5772 - val_loss: 0.9595 - val_accuracy: 0.6460\n",
            "Epoch 45/75\n",
            "900/900 [==============================] - 34s 37ms/step - loss: 1.1354 - accuracy: 0.5742 - val_loss: 0.9644 - val_accuracy: 0.6358\n",
            "Epoch 46/75\n",
            "900/900 [==============================] - 34s 38ms/step - loss: 1.1241 - accuracy: 0.5775 - val_loss: 0.9531 - val_accuracy: 0.6470\n",
            "Epoch 47/75\n",
            "900/900 [==============================] - 34s 38ms/step - loss: 1.1273 - accuracy: 0.5787 - val_loss: 0.9652 - val_accuracy: 0.6365\n",
            "Epoch 48/75\n",
            "900/900 [==============================] - 34s 38ms/step - loss: 1.1251 - accuracy: 0.5770 - val_loss: 0.9647 - val_accuracy: 0.6452\n",
            "Epoch 49/75\n",
            "900/900 [==============================] - 34s 38ms/step - loss: 1.1200 - accuracy: 0.5805 - val_loss: 0.9601 - val_accuracy: 0.6375\n",
            "Epoch 50/75\n",
            "900/900 [==============================] - 34s 37ms/step - loss: 1.1189 - accuracy: 0.5817 - val_loss: 0.9343 - val_accuracy: 0.6494\n",
            "Epoch 51/75\n",
            "900/900 [==============================] - 34s 38ms/step - loss: 1.1222 - accuracy: 0.5817 - val_loss: 0.9671 - val_accuracy: 0.6386\n",
            "Epoch 52/75\n",
            "900/900 [==============================] - 34s 38ms/step - loss: 1.1188 - accuracy: 0.5800 - val_loss: 0.9574 - val_accuracy: 0.6415\n",
            "Epoch 53/75\n",
            "900/900 [==============================] - 34s 38ms/step - loss: 1.1151 - accuracy: 0.5814 - val_loss: 0.9599 - val_accuracy: 0.6432\n",
            "Epoch 54/75\n",
            "900/900 [==============================] - 34s 38ms/step - loss: 1.1059 - accuracy: 0.5873 - val_loss: 1.0325 - val_accuracy: 0.6175\n",
            "Epoch 55/75\n",
            "900/900 [==============================] - 34s 37ms/step - loss: 1.1007 - accuracy: 0.5885 - val_loss: 0.9655 - val_accuracy: 0.6450\n",
            "Epoch 56/75\n",
            "900/900 [==============================] - 34s 38ms/step - loss: 1.1018 - accuracy: 0.5885 - val_loss: 0.9761 - val_accuracy: 0.6372\n",
            "Epoch 57/75\n",
            "900/900 [==============================] - 34s 37ms/step - loss: 1.0981 - accuracy: 0.5901 - val_loss: 0.9367 - val_accuracy: 0.6554\n",
            "Epoch 58/75\n",
            "900/900 [==============================] - 34s 38ms/step - loss: 1.1000 - accuracy: 0.5903 - val_loss: 0.9590 - val_accuracy: 0.6459\n",
            "Epoch 59/75\n",
            "900/900 [==============================] - 34s 37ms/step - loss: 1.1021 - accuracy: 0.5895 - val_loss: 0.9393 - val_accuracy: 0.6538\n",
            "Epoch 60/75\n",
            "900/900 [==============================] - 33s 37ms/step - loss: 1.0924 - accuracy: 0.5901 - val_loss: 0.9801 - val_accuracy: 0.6393\n",
            "Epoch 61/75\n",
            "900/900 [==============================] - 33s 37ms/step - loss: 1.0962 - accuracy: 0.5888 - val_loss: 0.9362 - val_accuracy: 0.6514\n",
            "Epoch 62/75\n",
            "900/900 [==============================] - 34s 38ms/step - loss: 1.0918 - accuracy: 0.5919 - val_loss: 0.9262 - val_accuracy: 0.6584\n",
            "Epoch 63/75\n",
            "900/900 [==============================] - 33s 37ms/step - loss: 1.0882 - accuracy: 0.5964 - val_loss: 0.9719 - val_accuracy: 0.6406\n",
            "Epoch 64/75\n",
            "900/900 [==============================] - 34s 38ms/step - loss: 1.0956 - accuracy: 0.5895 - val_loss: 0.9633 - val_accuracy: 0.6439\n",
            "Epoch 65/75\n",
            "900/900 [==============================] - 34s 38ms/step - loss: 1.0900 - accuracy: 0.5915 - val_loss: 0.9538 - val_accuracy: 0.6423\n",
            "Epoch 66/75\n",
            "900/900 [==============================] - 34s 37ms/step - loss: 1.0920 - accuracy: 0.5920 - val_loss: 0.9536 - val_accuracy: 0.6503\n",
            "Epoch 67/75\n",
            "900/900 [==============================] - 33s 37ms/step - loss: 1.0890 - accuracy: 0.5929 - val_loss: 0.9297 - val_accuracy: 0.6518\n",
            "Epoch 68/75\n",
            "900/900 [==============================] - 33s 37ms/step - loss: 1.0725 - accuracy: 0.6000 - val_loss: 0.9471 - val_accuracy: 0.6543\n",
            "Epoch 69/75\n",
            "900/900 [==============================] - 33s 37ms/step - loss: 1.0812 - accuracy: 0.5956 - val_loss: 0.9158 - val_accuracy: 0.6611\n",
            "Epoch 70/75\n",
            "900/900 [==============================] - 33s 37ms/step - loss: 1.0810 - accuracy: 0.5954 - val_loss: 0.9352 - val_accuracy: 0.6629\n",
            "Epoch 71/75\n",
            "900/900 [==============================] - 34s 38ms/step - loss: 1.0759 - accuracy: 0.5978 - val_loss: 0.9308 - val_accuracy: 0.6598\n",
            "Epoch 72/75\n",
            "900/900 [==============================] - 33s 37ms/step - loss: 1.0788 - accuracy: 0.5986 - val_loss: 0.9166 - val_accuracy: 0.6622\n",
            "Epoch 73/75\n",
            "900/900 [==============================] - 34s 37ms/step - loss: 1.0782 - accuracy: 0.5964 - val_loss: 0.9407 - val_accuracy: 0.6536\n",
            "Epoch 74/75\n",
            "900/900 [==============================] - 33s 37ms/step - loss: 1.0776 - accuracy: 0.5942 - val_loss: 0.9512 - val_accuracy: 0.6501\n",
            "Epoch 75/75\n",
            "900/900 [==============================] - 33s 37ms/step - loss: 1.0734 - accuracy: 0.5998 - val_loss: 0.9261 - val_accuracy: 0.6595\n"
          ],
          "name": "stdout"
        }
      ]
    },
    {
      "cell_type": "code",
      "metadata": {
        "id": "ylzTBReYY6nw",
        "colab_type": "code",
        "colab": {}
      },
      "source": [
        "!pip install -U -q PyDrive\n",
        "from pydrive.auth import GoogleAuth\n",
        "from pydrive.drive import GoogleDrive\n",
        "from google.colab import auth\n",
        "from oauth2client.client import GoogleCredentials\n",
        "\n",
        "# 1. Authenticate and create the PyDrive client.\n",
        "auth.authenticate_user()\n",
        "gauth = GoogleAuth()\n",
        "gauth.credentials = GoogleCredentials.get_application_default()\n",
        "drive = GoogleDrive(gauth)"
      ],
      "execution_count": 42,
      "outputs": []
    },
    {
      "cell_type": "code",
      "metadata": {
        "id": "tQQUVwrllX-i",
        "colab_type": "code",
        "colab": {
          "base_uri": "https://localhost:8080/",
          "height": 34
        },
        "outputId": "7aea6392-15e7-4a65-d612-77c566257a5b"
      },
      "source": [
        "model.save('model.h5')    \n",
        "model_file = drive.CreateFile({'title' : 'model.h5'})\n",
        "model_file.SetContentFile('model.h5')\n",
        "model_file.Upload()\n",
        "\n",
        "# download to google drive\n",
        "drive.CreateFile({'id': model_file.get('id')})"
      ],
      "execution_count": 45,
      "outputs": [
        {
          "output_type": "execute_result",
          "data": {
            "text/plain": [
              "GoogleDriveFile({'id': '1PPTYit-10zYcJeikVJp4mbyQiTdwHzZS'})"
            ]
          },
          "metadata": {
            "tags": []
          },
          "execution_count": 45
        }
      ]
    },
    {
      "cell_type": "code",
      "metadata": {
        "id": "Rmgg1tq8loV6",
        "colab_type": "code",
        "colab": {}
      },
      "source": [
        "import cv2\n",
        "def prepare(filepath):\n",
        "  IMG_SIZE = 48\n",
        "  img_array = cv2.imread(filepath, cv2.IMREAD_GRAYSCALE)\n",
        "  new_array = cv2.resize(img_array, (IMG_SIZE, IMG_SIZE))\n",
        "  return new_array.reshape(-1, IMG_SIZE, IMG_SIZE, 1)"
      ],
      "execution_count": 77,
      "outputs": []
    },
    {
      "cell_type": "code",
      "metadata": {
        "id": "iIn74XqO3mfZ",
        "colab_type": "code",
        "colab": {}
      },
      "source": [
        "prediction = model.predict([prepare(\"/content/drive/My Drive/Colab Notebooks/Emotion_detection/happy.jpg\")])"
      ],
      "execution_count": 89,
      "outputs": []
    },
    {
      "cell_type": "code",
      "metadata": {
        "id": "cRfUEdhs4bWc",
        "colab_type": "code",
        "colab": {}
      },
      "source": [
        "CATEGORIES = [\"happy\",\"angry\",\"fear\",\"sad\",\"surprise\",\"neutral\",\"disgust\"]"
      ],
      "execution_count": 79,
      "outputs": []
    },
    {
      "cell_type": "code",
      "metadata": {
        "id": "2oaHX7GB4DoX",
        "colab_type": "code",
        "colab": {
          "base_uri": "https://localhost:8080/",
          "height": 34
        },
        "outputId": "4b4cf065-1de1-4a23-bef4-a401394ae198"
      },
      "source": [
        "print(CATEGORIES[int(prediction[0][0])])"
      ],
      "execution_count": 90,
      "outputs": [
        {
          "output_type": "stream",
          "text": [
            "happy\n"
          ],
          "name": "stdout"
        }
      ]
    }
  ]
}